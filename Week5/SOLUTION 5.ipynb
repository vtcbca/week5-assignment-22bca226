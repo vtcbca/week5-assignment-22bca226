{
 "cells": [
  {
   "cell_type": "code",
   "execution_count": 1,
   "id": "6bac0e78",
   "metadata": {},
   "outputs": [],
   "source": [
    "import csv"
   ]
  },
  {
   "cell_type": "code",
   "execution_count": 2,
   "id": "987e148c",
   "metadata": {},
   "outputs": [],
   "source": [
    "s=['sid','sname','city','contact']"
   ]
  },
  {
   "cell_type": "code",
   "execution_count": 3,
   "id": "e5d868bb",
   "metadata": {},
   "outputs": [],
   "source": [
    "records=[[1,'rudra','chalthan',7632590102],\n",
    "         [2,'veer','bardoli',9722955429],\n",
    "         [3,'niraj','surat',9026763218],\n",
    "         [4,'dhruv','bharuch',5656521478],\n",
    "         [5,'viraj','surat',693006761]]\n",
    "p=[]"
   ]
  },
  {
   "cell_type": "code",
   "execution_count": 4,
   "id": "478f3eac",
   "metadata": {},
   "outputs": [
    {
     "name": "stdout",
     "output_type": "stream",
     "text": [
      "enter student id:6\n",
      "enter student name:vaidik\n",
      "enter student city:mumbai\n",
      "enter student contact number:5436777765\n",
      "enter student id:7\n",
      "enter student name:dhwanil\n",
      "enter student city:jaipur\n",
      "enter student contact number:5465767788\n",
      "enter student id:8\n",
      "enter student name:lux\n",
      "enter student city:delhi\n",
      "enter student contact number:4887766565\n",
      "enter student id:9\n",
      "enter student name:jinay\n",
      "enter student city:surat\n",
      "enter student contact number:8766546654\n",
      "enter student id:10\n",
      "enter student name:raj\n",
      "enter student city:mumbai\n",
      "enter student contact number:6474656555\n"
     ]
    }
   ],
   "source": [
    "for i in range(5):\n",
    "    sid=int(input(\"enter student id:\"))\n",
    "    sname=input(\"enter student name:\")\n",
    "    city=input(\"enter student city:\")\n",
    "    contact=int(input(\"enter student contact number:\"))\n",
    "    l=[sid,sname,city,contact]\n",
    "    p.append(l)"
   ]
  },
  {
   "cell_type": "code",
   "execution_count": 5,
   "id": "40e12031",
   "metadata": {},
   "outputs": [],
   "source": [
    "with open('C:\\sqlite3\\student.csv','w',newline='') as f:\n",
    "    file=csv.writer(f)\n",
    "    file.writerow(s)\n",
    "    file.writerows(records)\n",
    "    file.writerows(p)"
   ]
  },
  {
   "cell_type": "code",
   "execution_count": 6,
   "id": "8ef23e12",
   "metadata": {},
   "outputs": [
    {
     "name": "stdout",
     "output_type": "stream",
     "text": [
      "['sid', 'sname', 'city', 'contact']\n",
      "['1', 'rudra', 'chalthan', '7632590102']\n",
      "['2', 'veer', 'bardoli', '9722955429']\n",
      "['3', 'niraj', 'surat', '9026763218']\n",
      "['4', 'dhruv', 'bharuch', '5656521478']\n",
      "['5', 'viraj', 'surat', '693006761']\n",
      "['6', 'vaidik', 'mumbai', '5436777765']\n",
      "['7', 'dhwanil', 'jaipur', '5465767788']\n",
      "['8', 'lux', 'delhi', '4887766565']\n",
      "['9', 'jinay', 'surat', '8766546654']\n",
      "['10', 'raj', 'mumbai', '6474656555']\n"
     ]
    }
   ],
   "source": [
    "with open('C:\\sqlite3\\student.csv','r',newline='') as read:\n",
    "    all_record=csv.reader(read)\n",
    "    for records in all_record:\n",
    "        print(records)"
   ]
  },
  {
   "cell_type": "code",
   "execution_count": null,
   "id": "144dbbb9",
   "metadata": {},
   "outputs": [],
   "source": []
  }
 ],
 "metadata": {
  "kernelspec": {
   "display_name": "Python 3 (ipykernel)",
   "language": "python",
   "name": "python3"
  },
  "language_info": {
   "codemirror_mode": {
    "name": "ipython",
    "version": 3
   },
   "file_extension": ".py",
   "mimetype": "text/x-python",
   "name": "python",
   "nbconvert_exporter": "python",
   "pygments_lexer": "ipython3",
   "version": "3.9.6"
  }
 },
 "nbformat": 4,
 "nbformat_minor": 5
}
